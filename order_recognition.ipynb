{
 "cells": [
  {
   "cell_type": "code",
   "execution_count": null,
   "id": "eb653b24-66f1-4d19-8bb4-9bd087cd18b1",
   "metadata": {},
   "outputs": [],
   "source": [
    "pip install speechrecognition gtts pyaudio playsound\n"
   ]
  },
  {
   "cell_type": "code",
   "execution_count": 7,
   "id": "cd2fba6f-06f8-4446-9586-20d05fdce8f9",
   "metadata": {},
   "outputs": [
    {
     "name": "stdout",
     "output_type": "stream",
     "text": [
      "Requirement already satisfied: pip in c:\\users\\jayanth reddy\\appdata\\local\\programs\\python\\python312\\lib\\site-packages (24.3.1)\n",
      "Collecting pip\n",
      "  Using cached pip-25.0.1-py3-none-any.whl.metadata (3.7 kB)\n",
      "Using cached pip-25.0.1-py3-none-any.whl (1.8 MB)\n"
     ]
    },
    {
     "name": "stderr",
     "output_type": "stream",
     "text": [
      "\n",
      "[notice] A new release of pip is available: 24.3.1 -> 25.0.1\n",
      "[notice] To update, run: python.exe -m pip install --upgrade pip\n",
      "ERROR: To modify pip, please run the following command:\n",
      "C:\\Users\\Jayanth Reddy\\AppData\\Local\\Programs\\Python\\Python312\\python.exe -m pip install --upgrade pip\n"
     ]
    }
   ],
   "source": [
    "!pip install --upgrade pip\n"
   ]
  },
  {
   "cell_type": "code",
   "execution_count": 9,
   "id": "31363b7c-ebf7-41de-8c12-de9dbc04e54b",
   "metadata": {},
   "outputs": [
    {
     "name": "stdout",
     "output_type": "stream",
     "text": [
      "Requirement already satisfied: pip in c:\\users\\jayanth reddy\\appdata\\local\\programs\\python\\python312\\lib\\site-packages (24.3.1)\n",
      "Collecting pip\n",
      "  Using cached pip-25.0.1-py3-none-any.whl.metadata (3.7 kB)\n",
      "Requirement already satisfied: setuptools in c:\\users\\jayanth reddy\\appdata\\local\\programs\\python\\python312\\lib\\site-packages (76.0.0)\n",
      "Collecting wheel\n",
      "  Using cached wheel-0.45.1-py3-none-any.whl.metadata (2.3 kB)\n",
      "Using cached pip-25.0.1-py3-none-any.whl (1.8 MB)\n",
      "Using cached wheel-0.45.1-py3-none-any.whl (72 kB)\n"
     ]
    },
    {
     "name": "stderr",
     "output_type": "stream",
     "text": [
      "\n",
      "[notice] A new release of pip is available: 24.3.1 -> 25.0.1\n",
      "[notice] To update, run: python.exe -m pip install --upgrade pip\n",
      "ERROR: To modify pip, please run the following command:\n",
      "C:\\Users\\Jayanth Reddy\\AppData\\Local\\Programs\\Python\\Python312\\python.exe -m pip install --upgrade pip setuptools wheel\n"
     ]
    }
   ],
   "source": [
    "!pip install --upgrade pip setuptools wheel\n",
    "\n"
   ]
  },
  {
   "cell_type": "code",
   "execution_count": null,
   "id": "2332a477-b40a-4d7d-b397-ef78833de64c",
   "metadata": {},
   "outputs": [],
   "source": [
    "import speech_recognition as sr\n",
    "import os\n",
    "import time\n",
    "from gtts import gTTS\n",
    "import playsound\n",
    "\n",
    "MENU={\n",
    "    \"burger\":7.99,\n",
    "    \"pizza\":11.99,\n",
    "    \"pasta\":8.99,\n",
    "    \"fries\":3.99\n",
    "}\n",
    "\n",
    "HOURS = \"We are open from 10 AM to 10 PM, Monday to Sunday.\"\n",
    "\n",
    "def speak(text):\n",
    "    tts=gTTS(text=text,lang='en')\n",
    "    filename= \"response.mp3\"\n",
    "    tts.save(filename)  # Save the file first\n",
    "    time.sleep(1)  \n",
    "    playsound.playsound(filename)\n",
    "    os.remove(filename)\n",
    "\n",
    "def recognize_speech():\n",
    "    \"\"\"Capture and recognize speech using the microphone.\"\"\"\n",
    "    recognizer = sr.Recognizer()\n",
    "    with sr.Microphone() as source:\n",
    "        print(\"Listening...\")\n",
    "        recognizer.adjust_for_ambient_noise(source)\n",
    "        try:\n",
    "            audio = recognizer.listen(source)\n",
    "            text = recognizer.recognize_google(audio)\n",
    "            print(f\"You said: {text}\")\n",
    "            return text.lower()\n",
    "        except sr.UnknownValueError:\n",
    "            print(\"Sorry, I couldn't understand that.\")\n",
    "            return None\n",
    "        except sr.RequestError:\n",
    "            print(\"Speech Recognition service is unavailable.\")\n",
    "            return None\n",
    "\n",
    "def process_command(command):\n",
    "    \"\"\"Process the user's voice command related to the restaurant.\"\"\"\n",
    "    if \"menu\" in command:\n",
    "        response = \"Our menu includes burger, pizza, pasta, salad, and soda.\"\n",
    "    elif \"price\" in command:\n",
    "        for item in MENU:\n",
    "            if item in command:\n",
    "                response = f\"The price of {item} is ${MENU[item]:.2f}.\"\n",
    "                break\n",
    "        else:\n",
    "            response = \"I couldn't find that item on our menu.\"\n",
    "    elif \"hours\" in command or \"open\" in command:\n",
    "        response = HOURS\n",
    "    elif \"order\" in command:\n",
    "        for item in MENU:\n",
    "            if item in command:\n",
    "                response = f\"Your {item} has been ordered. It will be ready soon!\"\n",
    "                break\n",
    "        else:\n",
    "            response = \"I didn't catch what you want to order. Could you repeat that?\"\n",
    "    elif \"exit\" in command or \"bye\" in command:\n",
    "        response = \"Thank you for visiting our restaurant! Have a great day.\"\n",
    "        speak(response)\n",
    "        exit()\n",
    "    else:\n",
    "        response = \"I'm not sure how to help with that. Can you ask something else?\"\n",
    "    \n",
    "    speak(response)\n",
    "\n",
    "# Main loop\n",
    "if __name__ == \"__main__\":\n",
    "    speak(\"Welcome to our restaurant! How can I assist you today?\")\n",
    "    while True:\n",
    "        command = recognize_speech()\n",
    "        if command:\n",
    "            process_command(command)\n",
    "    "
   ]
  },
  {
   "cell_type": "code",
   "execution_count": 10,
   "id": "02dfcfec-c082-4230-b683-3b92f24d3d27",
   "metadata": {},
   "outputs": [
    {
     "name": "stdout",
     "output_type": "stream",
     "text": [
      "Collecting pyaudio\n",
      "  Using cached PyAudio-0.2.14-cp312-cp312-win_amd64.whl.metadata (2.7 kB)\n",
      "Downloading PyAudio-0.2.14-cp312-cp312-win_amd64.whl (164 kB)\n",
      "Installing collected packages: pyaudio\n",
      "Successfully installed pyaudio-0.2.14\n"
     ]
    },
    {
     "name": "stderr",
     "output_type": "stream",
     "text": [
      "\n",
      "[notice] A new release of pip is available: 24.3.1 -> 25.0.1\n",
      "[notice] To update, run: python.exe -m pip install --upgrade pip\n"
     ]
    }
   ],
   "source": [
    "!pip install pyaudio\n"
   ]
  },
  {
   "cell_type": "code",
   "execution_count": 2,
   "id": "85f5267c-ceca-4733-b2c9-fc7a188f8992",
   "metadata": {},
   "outputs": [
    {
     "name": "stdout",
     "output_type": "stream",
     "text": [
      "Collecting playsound==1.2.2\n",
      "  Downloading playsound-1.2.2-py2.py3-none-any.whl.metadata (3.3 kB)\n",
      "Downloading playsound-1.2.2-py2.py3-none-any.whl (6.0 kB)\n",
      "Installing collected packages: playsound\n",
      "Successfully installed playsound-1.2.2\n"
     ]
    },
    {
     "name": "stderr",
     "output_type": "stream",
     "text": [
      "\n",
      "[notice] A new release of pip is available: 24.3.1 -> 25.0.1\n",
      "[notice] To update, run: python.exe -m pip install --upgrade pip\n"
     ]
    }
   ],
   "source": [
    "!pip install playsound==1.2.2\n",
    "\n",
    "\n"
   ]
  },
  {
   "cell_type": "code",
   "execution_count": 17,
   "id": "3e60fd9e-290b-4032-b2ad-2eb9ef85a10f",
   "metadata": {},
   "outputs": [
    {
     "name": "stdout",
     "output_type": "stream",
     "text": [
      "Requirement already satisfied: pip in c:\\users\\jayanth reddy\\appdata\\local\\programs\\python\\python312\\lib\\site-packages (24.3.1)\n",
      "Collecting pip\n",
      "  Using cached pip-25.0.1-py3-none-any.whl.metadata (3.7 kB)\n",
      "Requirement already satisfied: setuptools in c:\\users\\jayanth reddy\\appdata\\local\\programs\\python\\python312\\lib\\site-packages (76.0.0)\n",
      "Collecting wheel\n",
      "  Using cached wheel-0.45.1-py3-none-any.whl.metadata (2.3 kB)\n",
      "Using cached pip-25.0.1-py3-none-any.whl (1.8 MB)\n",
      "Using cached wheel-0.45.1-py3-none-any.whl (72 kB)\n"
     ]
    },
    {
     "name": "stderr",
     "output_type": "stream",
     "text": [
      "\n",
      "[notice] A new release of pip is available: 24.3.1 -> 25.0.1\n",
      "[notice] To update, run: python.exe -m pip install --upgrade pip\n",
      "ERROR: To modify pip, please run the following command:\n",
      "C:\\Users\\Jayanth Reddy\\AppData\\Local\\Programs\\Python\\Python312\\python.exe -m pip install --upgrade pip setuptools wheel\n"
     ]
    }
   ],
   "source": [
    "!pip install --upgrade pip setuptools wheel\n",
    "\n"
   ]
  },
  {
   "cell_type": "code",
   "execution_count": 12,
   "id": "8dc08582-ab3a-4b7f-9d44-cafd0beb0ab0",
   "metadata": {},
   "outputs": [
    {
     "name": "stdout",
     "output_type": "stream",
     "text": [
      "Collecting SpeechRecognition\n",
      "  Using cached SpeechRecognition-3.14.1-py3-none-any.whl.metadata (31 kB)\n",
      "Requirement already satisfied: typing-extensions in c:\\users\\jayanth reddy\\appdata\\roaming\\python\\python312\\site-packages (from SpeechRecognition) (4.12.2)\n",
      "Downloading SpeechRecognition-3.14.1-py3-none-any.whl (32.9 MB)\n",
      "   ---------------------------------------- 0.0/32.9 MB ? eta -:--:--\n",
      "    --------------------------------------- 0.8/32.9 MB 6.7 MB/s eta 0:00:05\n",
      "   -- ------------------------------------- 2.1/32.9 MB 7.3 MB/s eta 0:00:05\n",
      "   -- ------------------------------------- 2.1/32.9 MB 7.3 MB/s eta 0:00:05\n",
      "   ---- ----------------------------------- 3.7/32.9 MB 4.8 MB/s eta 0:00:07\n",
      "   ------ --------------------------------- 5.0/32.9 MB 5.0 MB/s eta 0:00:06\n",
      "   ------- -------------------------------- 6.3/32.9 MB 5.1 MB/s eta 0:00:06\n",
      "   --------- ------------------------------ 7.6/32.9 MB 5.3 MB/s eta 0:00:05\n",
      "   ----------- ---------------------------- 9.7/32.9 MB 5.9 MB/s eta 0:00:04\n",
      "   ------------- -------------------------- 11.3/32.9 MB 6.1 MB/s eta 0:00:04\n",
      "   ---------------- ----------------------- 13.4/32.9 MB 6.5 MB/s eta 0:00:03\n",
      "   ------------------ --------------------- 15.5/32.9 MB 6.8 MB/s eta 0:00:03\n",
      "   --------------------- ------------------ 17.6/32.9 MB 7.1 MB/s eta 0:00:03\n",
      "   ----------------------- ---------------- 19.4/32.9 MB 7.2 MB/s eta 0:00:02\n",
      "   -------------------------- ------------- 21.5/32.9 MB 7.4 MB/s eta 0:00:02\n",
      "   ---------------------------- ----------- 23.6/32.9 MB 7.6 MB/s eta 0:00:02\n",
      "   ------------------------------- -------- 26.0/32.9 MB 7.7 MB/s eta 0:00:01\n",
      "   --------------------------------- ------ 27.8/32.9 MB 7.8 MB/s eta 0:00:01\n",
      "   ------------------------------------ --- 29.9/32.9 MB 7.9 MB/s eta 0:00:01\n",
      "   -------------------------------------- - 32.0/32.9 MB 8.0 MB/s eta 0:00:01\n",
      "   ---------------------------------------  32.8/32.9 MB 8.0 MB/s eta 0:00:01\n",
      "   ---------------------------------------- 32.9/32.9 MB 7.7 MB/s eta 0:00:00\n",
      "Installing collected packages: SpeechRecognition\n",
      "Successfully installed SpeechRecognition-3.14.1\n"
     ]
    },
    {
     "name": "stderr",
     "output_type": "stream",
     "text": [
      "\n",
      "[notice] A new release of pip is available: 24.3.1 -> 25.0.1\n",
      "[notice] To update, run: python.exe -m pip install --upgrade pip\n"
     ]
    }
   ],
   "source": [
    "!pip install SpeechRecognition\n"
   ]
  }
 ],
 "metadata": {
  "kernelspec": {
   "display_name": "Python 3 (ipykernel)",
   "language": "python",
   "name": "python3"
  },
  "language_info": {
   "codemirror_mode": {
    "name": "ipython",
    "version": 3
   },
   "file_extension": ".py",
   "mimetype": "text/x-python",
   "name": "python",
   "nbconvert_exporter": "python",
   "pygments_lexer": "ipython3",
   "version": "3.12.9"
  }
 },
 "nbformat": 4,
 "nbformat_minor": 5
}
